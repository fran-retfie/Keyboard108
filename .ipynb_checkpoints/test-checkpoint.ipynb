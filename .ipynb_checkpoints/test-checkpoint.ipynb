{
 "cells": [
  {
   "cell_type": "code",
   "execution_count": 360,
   "id": "48196ef1-cd23-4ccb-8095-5e454808d36e",
   "metadata": {},
   "outputs": [],
   "source": [
    "import pcbnew as pcb\n",
    "import re\n",
    "import numpy as np"
   ]
  },
  {
   "cell_type": "code",
   "execution_count": 361,
   "id": "f811d18d-0192-4b93-89ea-80f5157ef3c2",
   "metadata": {},
   "outputs": [],
   "source": [
    "file = pcb.LoadBoard(\"keyboard-backup.kicad_pcb\")"
   ]
  },
  {
   "cell_type": "code",
   "execution_count": 362,
   "id": "6f074ce0-8cb8-4dfb-aad1-fdaf93c5de55",
   "metadata": {},
   "outputs": [],
   "source": [
    "board = file.GetBoard()"
   ]
  },
  {
   "cell_type": "code",
   "execution_count": 363,
   "id": "c7697138-5d80-4a6c-a8dc-f925ed2b6a28",
   "metadata": {},
   "outputs": [],
   "source": [
    "footprints = filter(lambda el: el.GetReference(), board.GetFootprints())\n",
    "bottomLayer =board.GetLayerID(\"F.Cu\")\n",
    "nKeys = len(list(filter(lambda el: re.search(\"K\", el.GetReference()), board.GetFootprints())))"
   ]
  },
  {
   "cell_type": "code",
   "execution_count": 364,
   "id": "329bdfd4-9a26-4caf-a08b-13b0c0a793cb",
   "metadata": {},
   "outputs": [],
   "source": [
    "model = pcb.FP_3DMODEL()\n",
    "model.m_Filename = \"${KICAD6_3RD_PARTY}/3dmodels/com_github_perigoso_keyswitch-kicad-library/3d-library.3dshapes/SW_Cherry_MX_PCB.stp\"\n",
    "offset = pcb.VECTOR3D()\n",
    "offset.x = -2.5\n",
    "offset.y = -5.1\n",
    "model.m_Offset = offset"
   ]
  },
  {
   "cell_type": "code",
   "execution_count": 365,
   "id": "a8a26588-35b1-40fe-8128-9bf46b3fe1c6",
   "metadata": {},
   "outputs": [],
   "source": [
    "\n",
    "for nRef in range(nKeys):\n",
    "    key   = list(filter(lambda el: el.GetReference() == f'K{nRef}',     board.GetFootprints()))[0]\n",
    "    led   = list(filter(lambda el: el.GetReference() == f'D{nRef+200}', board.GetFootprints()))[0]\n",
    "    diode = list(filter(lambda el: el.GetReference() == f'D{nRef}',     board.GetFootprints()))[0]\n",
    "    \n",
    "    ledPos = key.GetPosition()\n",
    "    ledPos.x = ledPos.x - 2500000\n",
    "    ledPos.y = ledPos.y + 10500000\n",
    "\n",
    "    diodePos = key.GetPosition()\n",
    "    diodePos.x = diodePos.x - 6400000\n",
    "    diodePos.y = diodePos.y - 1600000    \n",
    "\n",
    "    #led.\n",
    "    led.SetPosition(ledPos)\n",
    "    diode.SetPosition(diodePos)\n",
    "    diode.Rotate(diode.GetPosition(), 1800.0)\n",
    "    key.Add3DModel(model)\n",
    "    key.Models\n",
    "    #print(key.GetReference(), keyPos)\n",
    "    #print(led.GetReference(), ledPos)"
   ]
  },
  {
   "cell_type": "code",
   "execution_count": 366,
   "id": "47c4d092-5ac3-41e1-8b27-bf207f75f908",
   "metadata": {},
   "outputs": [
    {
     "data": {
      "text/plain": [
       "True"
      ]
     },
     "execution_count": 366,
     "metadata": {},
     "output_type": "execute_result"
    }
   ],
   "source": [
    "pcb.SaveBoard(\"keyboard.kicad_pcb\", board)"
   ]
  },
  {
   "cell_type": "code",
   "execution_count": null,
   "id": "fb75ccf6-22cb-48d3-b5c6-7466eead61a0",
   "metadata": {},
   "outputs": [],
   "source": []
  }
 ],
 "metadata": {
  "kernelspec": {
   "display_name": "Python 3 (ipykernel)",
   "language": "python",
   "name": "python3"
  },
  "language_info": {
   "codemirror_mode": {
    "name": "ipython",
    "version": 3
   },
   "file_extension": ".py",
   "mimetype": "text/x-python",
   "name": "python",
   "nbconvert_exporter": "python",
   "pygments_lexer": "ipython3",
   "version": "3.10.5"
  }
 },
 "nbformat": 4,
 "nbformat_minor": 5
}
